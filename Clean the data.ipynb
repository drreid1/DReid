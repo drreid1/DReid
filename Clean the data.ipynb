{
 "cells": [
  {
   "cell_type": "markdown",
   "metadata": {},
   "source": [
    "# Clean the data"
   ]
  },
  {
   "cell_type": "markdown",
   "metadata": {},
   "source": [
    "Select and delete rows where started_at, start_station_id, start_station_name, start_lat, start_lng, ended_at, end_station_id, end_station_name, end_lat, or end_lng IS NULL. Removed 1,388,170 rows."
   ]
  },
  {
   "cell_type": "code",
   "execution_count": null,
   "metadata": {},
   "outputs": [],
   "source": [
    "SELECT *\n",
    "FROM cyclistic.combined_trips\n",
    "WHERE\n",
    "started_at IS NULL\n",
    "OR start_station_id IS NULL\n",
    "OR start_station_name IS NULL\n",
    "OR start_lat IS NULL\n",
    "OR start_lng IS NULL\n",
    "OR ended_at IS NULL\n",
    "OR end_station_id IS NULL\n",
    "OR end_station_name IS NULL\n",
    "OR end_lat IS NULL\n",
    "OR end_lng IS NULL;\n",
    "\n",
    "DELETE \n",
    "FROM cyclistic.combined_trips\n",
    "WHERE\n",
    "started_at IS NULL\n",
    "OR start_station_id IS NULL\n",
    "OR start_station_name IS NULL\n",
    "OR start_lat IS NULL\n",
    "OR start_lng IS NULL\n",
    "OR ended_at IS NULL\n",
    "OR end_station_id IS NULL\n",
    "OR end_station_name IS NULL\n",
    "OR end_lat IS NULL\n",
    "OR end_lng IS NULL;"
   ]
  },
  {
   "cell_type": "markdown",
   "metadata": {},
   "source": [
    "Add column for ride_length."
   ]
  },
  {
   "cell_type": "code",
   "execution_count": null,
   "metadata": {},
   "outputs": [],
   "source": [
    "ALTER TABLE `cyclistic.combined_trips`\n",
    "ADD COLUMN ride_length int"
   ]
  },
  {
   "cell_type": "markdown",
   "metadata": {},
   "source": [
    "Calculate ride lengths."
   ]
  },
  {
   "cell_type": "code",
   "execution_count": null,
   "metadata": {},
   "outputs": [],
   "source": [
    "UPDATE `cyclistic.combined_trips`\n",
    "SET ride_length = DATETIME_DIFF(ended_at, started_at, minute)\n",
    "WHERE ride_id IS NOT NULL"
   ]
  },
  {
   "cell_type": "markdown",
   "metadata": {},
   "source": [
    "Find ride_length that is less than 0 minute or greater than or equal to 1440 minutes (one day)."
   ]
  },
  {
   "cell_type": "code",
   "execution_count": null,
   "metadata": {},
   "outputs": [],
   "source": [
    "SELECT COUNT(ride_id)\n",
    "FROM `cyclistic.combined_trips`\n",
    "WHERE ride_length < 0 or ride_length >= 1440"
   ]
  },
  {
   "cell_type": "markdown",
   "metadata": {},
   "source": [
    "Delete rows where ride_length is less than 1 minute or greater than 1440 minutes."
   ]
  },
  {
   "cell_type": "code",
   "execution_count": null,
   "metadata": {},
   "outputs": [],
   "source": [
    "DELETE\n",
    "FROM `cyclistic.combined_trips`\n",
    "WHERE ride_length < 0 or ride_length >= 1440"
   ]
  },
  {
   "cell_type": "markdown",
   "metadata": {},
   "source": [
    "Add column for the month."
   ]
  },
  {
   "cell_type": "code",
   "execution_count": null,
   "metadata": {},
   "outputs": [],
   "source": [
    "ALTER TABLE `cyclistic.combined_trips`\n",
    "ADD COLUMN month STRING;\n",
    "\n",
    "UPDATE `cyclistic.combined_trips`\n",
    "SET month = FORMAT_DATETIME(\"%b\", DATETIME(started_at))\n",
    "WHERE ride_id IS NOT NULL"
   ]
  },
  {
   "cell_type": "markdown",
   "metadata": {},
   "source": [
    "Add column for day of the week."
   ]
  },
  {
   "cell_type": "code",
   "execution_count": null,
   "metadata": {},
   "outputs": [],
   "source": [
    "ALTER TABLE `cyclistic.combined_trips`\n",
    "ADD COLUMN day_of_week STRING;\n",
    "\n",
    "UPDATE `cyclistic.combined_trips`\n",
    "SET day_of_week = FORMAT_DATETIME(\"%a\", DATETIME(started_at))\n",
    "WHERE ride_id IS NOT NULL"
   ]
  },
  {
   "cell_type": "markdown",
   "metadata": {},
   "source": [
    "Count the number of remaining rows after cleaning."
   ]
  },
  {
   "cell_type": "code",
   "execution_count": null,
   "metadata": {},
   "outputs": [],
   "source": [
    "SELECT COUNT(DISTINCT ride_id)\n",
    "FROM `cyclistic.combined_trips`\n",
    "\n",
    "-- Result: 4331540"
   ]
  }
 ],
 "metadata": {
  "language_info": {
   "name": "python"
  }
 },
 "nbformat": 4,
 "nbformat_minor": 2
}
