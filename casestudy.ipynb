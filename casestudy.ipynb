{
 "cells": [
  {
   "cell_type": "markdown",
   "metadata": {},
   "source": [
    "# Process the data"
   ]
  },
  {
   "cell_type": "markdown",
   "metadata": {},
   "source": [
    "* Download the previous 12 months of trip data.\n",
    "* Upload to GoogleCloud and create a bucket.\n",
    "* Combine the data in one table."
   ]
  },
  {
   "cell_type": "code",
   "execution_count": null,
   "metadata": {},
   "outputs": [],
   "source": [
    "CREATE TABLE IF NOT EXISTS cyclistic.combined_trips\n",
    "AS\n",
    "SELECT *\n",
    "FROM\n",
    "  `cyclistic.*`"
   ]
  },
  {
   "cell_type": "markdown",
   "metadata": {},
   "source": [
    "These are the original variables and data types.\n",
    "* ride_id\t STRING\n",
    "* rideable_type\tSTRING\n",
    "* started_at\tTIMESTAMP\n",
    "* ended_at\tTIMESTAMP\n",
    "* start_station_name  STRING\n",
    "* start_station_id\tSTRING\n",
    "* end_station_name\tSTRING\n",
    "* end_station_id\tSTRING\n",
    "* start_lat\tFLOAT\n",
    "* start_lng\tFLOAT\n",
    "* end_lat\tFLOAT\n",
    "* end_lng\tFLOAT\n",
    "* member_casual\tSTRING"
   ]
  },
  {
   "cell_type": "markdown",
   "metadata": {},
   "source": [
    "Count the rows. "
   ]
  },
  {
   "cell_type": "code",
   "execution_count": null,
   "metadata": {},
   "outputs": [],
   "source": [
    "SELECT COUNT(*)\n",
    "  FROM `midyear-castle-416616.cyclistic.combined_trips`;\n",
    "\n",
    "-- There are 5,719,877 rows."
   ]
  },
  {
   "cell_type": "markdown",
   "metadata": {},
   "source": [
    "Now, we need to calculate the number of rows with nulls."
   ]
  },
  {
   "cell_type": "code",
   "execution_count": null,
   "metadata": {},
   "outputs": [],
   "source": [
    "SELECT COUNT(*) - COUNT(ride_id) AS ride_id,\n",
    "  COUNT(*) - COUNT(rideable_type) AS rideable_type,\n",
    "  COUNT(*) - COUNT(started_at) AS started_at,\n",
    "  COUNT(*) - COUNT(ended_at) AS ended_at,\n",
    "  COUNT(*) - COUNT(start_station_name) AS start_station_name,\n",
    "  COUNT(*) - COUNT(start_station_id) AS start_station_id,\n",
    "  COUNT(*) - COUNT(end_station_name) AS end_station_name,\n",
    "  COUNT(*) - COUNT(end_station_id) AS end_station_id,\n",
    "  COUNT(*) - COUNT(start_lat) AS start_lat,\n",
    "  COUNT(*) - COUNT(start_lng) AS start_lng,\n",
    "  COUNT(*) - COUNT(end_lat) AS end_lat,\n",
    "  COUNT(*) - COUNT(end_lng) AS end_lng,\n",
    "  COUNT(*) - COUNT(member_casual) AS member_casual,\n",
    "FROM `cyclistic.combined_trips`"
   ]
  },
  {
   "cell_type": "markdown",
   "metadata": {},
   "source": [
    "Check if all rows are distinct using ride_id.\n",
    "Based on the ride_id, all rows are distinct."
   ]
  },
  {
   "cell_type": "code",
   "execution_count": null,
   "metadata": {},
   "outputs": [],
   "source": [
    "SELECT COUNT (ride_id) - COUNT(DISTINCT ride_id)\n",
    "  AS duplicate_rows\n",
    "FROM `midyear-castle-416616.cyclistic.combined_trips`"
   ]
  },
  {
   "cell_type": "markdown",
   "metadata": {},
   "source": [
    "Find the number of ride durations longer than 1 day (1440 minutes). "
   ]
  },
  {
   "cell_type": "code",
   "execution_count": null,
   "metadata": {},
   "outputs": [],
   "source": [
    "SELECT COUNT (*)\n",
    "FROM `midyear-castle-416616.cyclistic.combined_trips`\n",
    "WHERE TIMESTAMP_DIFF(ended_at, started_at, MINUTE) > 1440\n",
    "\n",
    "-- Result: 6417"
   ]
  },
  {
   "cell_type": "markdown",
   "metadata": {},
   "source": [
    "Find the number of ride durations less than 1 minute."
   ]
  },
  {
   "cell_type": "code",
   "execution_count": null,
   "metadata": {},
   "outputs": [],
   "source": [
    "SELECT COUNT (*)\n",
    "FROM `midyear-castle-416616.cyclistic.combined_trips`\n",
    "WHERE TIMESTAMP_DIFF(ended_at, started_at, MINUTE) <= 1;\n",
    "\n",
    "-- Result: 263293"
   ]
  },
  {
   "cell_type": "markdown",
   "metadata": {},
   "source": [
    "Number of rows where start_station_name or start_station_id is missing."
   ]
  },
  {
   "cell_type": "code",
   "execution_count": null,
   "metadata": {},
   "outputs": [],
   "source": [
    "SELECT COUNT(ride_id) AS start_station_null \n",
    "FROM `cyclistic.combined_trips`\n",
    "WHERE start_station_name IS NULL OR start_station_id IS NULL;\n",
    "\n",
    "-- Result: 875848"
   ]
  },
  {
   "cell_type": "markdown",
   "metadata": {},
   "source": [
    "Number of rows where start_lat or start_lng is missing."
   ]
  },
  {
   "cell_type": "code",
   "execution_count": null,
   "metadata": {},
   "outputs": [],
   "source": [
    "SELECT COUNT(ride_id) AS start_loc_null \n",
    "FROM `cyclistic.combined_trips`\n",
    "WHERE \n",
    "  start_lat IS NULL OR \n",
    "  start_lng IS NULL;\n",
    "\n",
    "-- Result: 0"
   ]
  },
  {
   "cell_type": "markdown",
   "metadata": {},
   "source": [
    "Number of rows where end_station_name or end_station_id is missing."
   ]
  },
  {
   "cell_type": "code",
   "execution_count": null,
   "metadata": {},
   "outputs": [],
   "source": [
    "SELECT COUNT(ride_id) AS end_station_null \n",
    "FROM `cyclistic.combined_trips`\n",
    "WHERE end_station_name IS NULL OR end_station_id IS NULL;\n",
    "\n",
    "-- Result: 929343"
   ]
  },
  {
   "cell_type": "markdown",
   "metadata": {},
   "source": [
    "Number of rows where end_lat or end_lng is missing."
   ]
  },
  {
   "cell_type": "code",
   "execution_count": null,
   "metadata": {},
   "outputs": [],
   "source": [
    "SELECT COUNT(ride_id) AS end_loc_null\n",
    "FROM `cyclistic.combined_trips`\n",
    "WHERE\n",
    "  end_lat IS NULL OR\n",
    "  end_lng IS NULL;\n",
    "\n",
    "  -- Result: 6990"
   ]
  },
  {
   "cell_type": "markdown",
   "metadata": {},
   "source": [
    "Finding the number of member types."
   ]
  },
  {
   "cell_type": "code",
   "execution_count": null,
   "metadata": {},
   "outputs": [],
   "source": [
    "SELECT DISTINCT member_casual, COUNT(member_casual)\n",
    "FROM `cyclistic.combined_trips`\n",
    "\n",
    "GROUP BY member_casual\n",
    "\n",
    "-- Casual Riders: 2059179\n",
    "-- Member Riders: 3660698"
   ]
  },
  {
   "cell_type": "markdown",
   "metadata": {},
   "source": [
    "# Clean the data"
   ]
  },
  {
   "cell_type": "markdown",
   "metadata": {},
   "source": [
    "Select and delete rows where started_at, start_station_id, start_station_name, start_lat, start_lng, ended_at, end_station_id, end_station_name, end_lat, or end_lng IS NULL. Removed 1,388,170 rows."
   ]
  },
  {
   "cell_type": "code",
   "execution_count": null,
   "metadata": {},
   "outputs": [],
   "source": [
    "SELECT *\n",
    "FROM cyclistic.combined_trips\n",
    "WHERE\n",
    "started_at IS NULL\n",
    "OR start_station_id IS NULL\n",
    "OR start_station_name IS NULL\n",
    "OR start_lat IS NULL\n",
    "OR start_lng IS NULL\n",
    "OR ended_at IS NULL\n",
    "OR end_station_id IS NULL\n",
    "OR end_station_name IS NULL\n",
    "OR end_lat IS NULL\n",
    "OR end_lng IS NULL;\n",
    "\n",
    "DELETE \n",
    "FROM cyclistic.combined_trips\n",
    "WHERE\n",
    "started_at IS NULL\n",
    "OR start_station_id IS NULL\n",
    "OR start_station_name IS NULL\n",
    "OR start_lat IS NULL\n",
    "OR start_lng IS NULL\n",
    "OR ended_at IS NULL\n",
    "OR end_station_id IS NULL\n",
    "OR end_station_name IS NULL\n",
    "OR end_lat IS NULL\n",
    "OR end_lng IS NULL;"
   ]
  },
  {
   "cell_type": "markdown",
   "metadata": {},
   "source": [
    "Add column for ride_length."
   ]
  },
  {
   "cell_type": "code",
   "execution_count": null,
   "metadata": {},
   "outputs": [],
   "source": [
    "ALTER TABLE `cyclistic.combined_trips`\n",
    "ADD COLUMN ride_length int"
   ]
  },
  {
   "cell_type": "markdown",
   "metadata": {},
   "source": [
    "Calculate ride lengths."
   ]
  },
  {
   "cell_type": "code",
   "execution_count": null,
   "metadata": {},
   "outputs": [],
   "source": [
    "UPDATE `cyclistic.combined_trips`\n",
    "SET ride_length = DATETIME_DIFF(ended_at, started_at, minute)\n",
    "WHERE ride_id IS NOT NULL"
   ]
  },
  {
   "cell_type": "markdown",
   "metadata": {},
   "source": [
    "Find ride_length that is less than 0 minute or greater than or equal to 1440 minutes (one day)."
   ]
  },
  {
   "cell_type": "code",
   "execution_count": null,
   "metadata": {},
   "outputs": [],
   "source": [
    "SELECT COUNT(ride_id)\n",
    "FROM `cyclistic.combined_trips`\n",
    "WHERE ride_length < 0 or ride_length >= 1440"
   ]
  },
  {
   "cell_type": "markdown",
   "metadata": {},
   "source": [
    "Delete rows where ride_length is less than 1 minute or greater than 1440 minutes."
   ]
  },
  {
   "cell_type": "code",
   "execution_count": null,
   "metadata": {},
   "outputs": [],
   "source": [
    "DELETE\n",
    "FROM `cyclistic.combined_trips`\n",
    "WHERE ride_length < 0 or ride_length >= 1440"
   ]
  },
  {
   "cell_type": "markdown",
   "metadata": {},
   "source": [
    "Add column for the month."
   ]
  },
  {
   "cell_type": "code",
   "execution_count": null,
   "metadata": {},
   "outputs": [],
   "source": [
    "ALTER TABLE `cyclistic.combined_trips`\n",
    "ADD COLUMN month STRING;\n",
    "\n",
    "UPDATE `cyclistic.combined_trips`\n",
    "SET month = FORMAT_DATETIME(\"%b\", DATETIME(started_at))\n",
    "WHERE ride_id IS NOT NULL"
   ]
  },
  {
   "cell_type": "markdown",
   "metadata": {},
   "source": [
    "Add column for day of the week."
   ]
  },
  {
   "cell_type": "code",
   "execution_count": null,
   "metadata": {},
   "outputs": [],
   "source": [
    "ALTER TABLE `cyclistic.combined_trips`\n",
    "ADD COLUMN day_of_week STRING;\n",
    "\n",
    "UPDATE `cyclistic.combined_trips`\n",
    "SET day_of_week = FORMAT_DATETIME(\"%a\", DATETIME(started_at))\n",
    "WHERE ride_id IS NOT NULL"
   ]
  },
  {
   "cell_type": "markdown",
   "metadata": {},
   "source": [
    "Count the number of remaining rows after cleaning."
   ]
  },
  {
   "cell_type": "code",
   "execution_count": null,
   "metadata": {},
   "outputs": [],
   "source": [
    "SELECT COUNT(DISTINCT ride_id)\n",
    "FROM `cyclistic.combined_trips`\n",
    "\n",
    "-- Result: 4331540"
   ]
  }
 ],
 "metadata": {
  "language_info": {
   "name": "python"
  }
 },
 "nbformat": 4,
 "nbformat_minor": 2
}
