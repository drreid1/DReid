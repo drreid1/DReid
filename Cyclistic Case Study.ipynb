{
  "nbformat": 4,
  "nbformat_minor": 0,
  "metadata": {
    "colab": {
      "name": "BigQuery table",
      "cell_execution_strategy": "setup",
      "provenance": [],
      "toc_visible": true
    },
    "kernelspec": {
      "name": "python3",
      "display_name": "Python 3"
    },
    "language_info": {
      "name": "python"
    }
  },
  "cells": [
    {
      "cell_type": "markdown",
      "source": [
        "# Process the data\n",
        "\n",
        "* Download the previous 12 months of trip data.\n",
        "* Upload to GoogleCloud and create a bucket.\n",
        "* Combine the data in one table.\n",
        "\n",
        "\n"
      ],
      "metadata": {
        "id": "P3EO-zGZZ3H6"
      }
    },
    {
      "cell_type": "code",
      "source": [
        "CREATE TABLE IF NOT EXISTS cyclistic.combined_trips\n",
        "AS\n",
        "SELECT *\n",
        "FROM\n",
        "  `cyclistic.*`"
      ],
      "metadata": {
        "id": "Ss9adMZSatG3"
      },
      "execution_count": null,
      "outputs": []
    },
    {
      "cell_type": "markdown",
      "source": [
        "* ride_id\t STRING\n",
        "* rideable_type\tSTRING\n",
        "* started_at\tTIMESTAMP\n",
        "* ended_at\tTIMESTAMP\n",
        "* start_station_name  STRING\n",
        "* start_station_id\tSTRING\n",
        "* end_station_name\tSTRING\n",
        "* end_station_id\tSTRING\n",
        "* start_lat\tFLOAT\n",
        "* start_lng\tFLOAT\n",
        "* end_lat\tFLOAT\n",
        "* end_lng\tFLOAT\n",
        "* member_casual\tSTRING\n",
        "\n"
      ],
      "metadata": {
        "id": "UQH7g3VbcEuq"
      }
    },
    {
      "cell_type": "markdown",
      "source": [
        "Count the rows. There are 5,719,877 rows."
      ],
      "metadata": {
        "id": "wKkzZvSYdym1"
      }
    },
    {
      "cell_type": "code",
      "source": [
        "  SELECT COUNT(*)\n",
        "  FROM `midyear-castle-416616.cyclistic.combined_trips`;"
      ],
      "metadata": {
        "id": "WSIxaTxed54e"
      },
      "execution_count": null,
      "outputs": []
    },
    {
      "cell_type": "markdown",
      "source": [
        "Now, we need to calculate the number of rows with nulls."
      ],
      "metadata": {
        "id": "gi8Wq147kPdc"
      }
    },
    {
      "cell_type": "code",
      "source": [
        "SELECT COUNT(*) - COUNT(ride_id) AS ride_id,\n",
        "  COUNT(*) - COUNT(rideable_type) AS rideable_type,\n",
        "  COUNT(*) - COUNT(started_at) AS started_at,\n",
        "  COUNT(*) - COUNT(ended_at) AS ended_at,\n",
        "  COUNT(*) - COUNT(start_station_name) AS start_station_name,\n",
        "  COUNT(*) - COUNT(start_station_id) AS start_station_id,\n",
        "  COUNT(*) - COUNT(end_station_name) AS end_station_name,\n",
        "  COUNT(*) - COUNT(end_station_id) AS end_station_id,\n",
        "  COUNT(*) - COUNT(start_lat) AS start_lat,\n",
        "  COUNT(*) - COUNT(start_lng) AS start_lng,\n",
        "  COUNT(*) - COUNT(end_lat) AS end_lat,\n",
        "  COUNT(*) - COUNT(end_lng) AS end_lng,\n",
        "  COUNT(*) - COUNT(member_casual) AS member_casual,\n",
        "FROM `cyclistic.combined_trips`"
      ],
      "metadata": {
        "id": "26L37D-tkQeh"
      },
      "execution_count": null,
      "outputs": []
    },
    {
      "cell_type": "markdown",
      "source": [
        "Based on the ride_id, all rows are distinct."
      ],
      "metadata": {
        "id": "4Dx8AM53kjBT"
      }
    },
    {
      "cell_type": "code",
      "source": [
        "SELECT COUNT (ride_id) - COUNT(DISTINCT ride_id)\n",
        "  AS duplicate_rows\n",
        "FROM `midyear-castle-416616.cyclistic.combined_trips`"
      ],
      "metadata": {
        "id": "8VOF1H_3c-oa"
      },
      "execution_count": null,
      "outputs": []
    },
    {
      "cell_type": "markdown",
      "source": [
        "Find the number of ride durations longer than 1 day (1440 minutes).\n",
        "Result: 6417"
      ],
      "metadata": {
        "id": "LHjAwYw3KR9T"
      }
    },
    {
      "cell_type": "code",
      "source": [
        "SELECT COUNT (*)\n",
        "FROM `midyear-castle-416616.cyclistic.combined_trips`\n",
        "WHERE TIMESTAMP_DIFF(ended_at, started_at, MINUTE) > 1440"
      ],
      "metadata": {
        "id": "OIrjdntMKkYM"
      },
      "execution_count": null,
      "outputs": []
    },
    {
      "cell_type": "markdown",
      "source": [
        "Find the number of ride durations less than 1 minute.\n",
        "Result: 263293"
      ],
      "metadata": {
        "id": "vDS34SbjLNOi"
      }
    },
    {
      "cell_type": "code",
      "source": [
        "SELECT COUNT (*)\n",
        "\n",
        "FROM `midyear-castle-416616.cyclistic.combined_trips`\n",
        "\n",
        "WHERE TIMESTAMP_DIFF(ended_at, started_at, MINUTE) <= 1;"
      ],
      "metadata": {
        "id": "YI8TJdyALXGU"
      },
      "execution_count": null,
      "outputs": []
    },
    {
      "cell_type": "markdown",
      "source": [
        "Number of rows where start_station_name or start_station_id is missing.\n",
        "Result: 875848"
      ],
      "metadata": {
        "id": "tnbPNjUFNYJq"
      }
    },
    {
      "cell_type": "code",
      "source": [
        "SELECT COUNT(ride_id) AS start_station_null\n",
        "FROM `cyclistic.combined_trips`\n",
        "WHERE start_station_name IS NULL OR start_station_id IS NULL;"
      ],
      "metadata": {
        "id": "Jhs2VfrPNWqG"
      },
      "execution_count": null,
      "outputs": []
    },
    {
      "cell_type": "markdown",
      "source": [
        "Number of rows where start_lat or start_lng is missing.\n",
        "Result: 0"
      ],
      "metadata": {
        "id": "b6kfGRwaQNP0"
      }
    },
    {
      "cell_type": "code",
      "source": [
        "SELECT COUNT(ride_id) AS start_loc_null\n",
        "FROM `cyclistic.combined_trips`\n",
        "WHERE\n",
        "  start_lat IS NULL OR\n",
        "  start_lng IS NULL;"
      ],
      "metadata": {
        "id": "--2NM4ctQN6h"
      },
      "execution_count": null,
      "outputs": []
    },
    {
      "cell_type": "markdown",
      "source": [
        "Number of rows where end_station_name or end_station_id is missing.\n",
        "Result: 929343"
      ],
      "metadata": {
        "id": "_EodcnYlOED0"
      }
    },
    {
      "cell_type": "code",
      "source": [
        "SELECT COUNT(ride_id) AS end_station_null\n",
        "FROM `cyclistic.combined_trips`\n",
        "WHERE end_station_name IS NULL OR end_station_id IS NULL;"
      ],
      "metadata": {
        "id": "pQbD0nFoOXej"
      },
      "execution_count": null,
      "outputs": []
    },
    {
      "cell_type": "markdown",
      "source": [
        "Number of rows where end_lat or end_lng is missing.\n",
        "Result: 6990"
      ],
      "metadata": {
        "id": "plYMoPhtQf0p"
      }
    },
    {
      "cell_type": "code",
      "source": [
        "SELECT COUNT(ride_id) AS end_loc_null\n",
        "FROM `cyclistic.combined_trips`\n",
        "WHERE\n",
        "  end_lat IS NULL OR\n",
        "  end_lng IS NULL;"
      ],
      "metadata": {
        "id": "dr_1nOf1QsSQ"
      },
      "execution_count": null,
      "outputs": []
    },
    {
      "cell_type": "markdown",
      "source": [
        "Finding the number of member types.\n",
        "Casual Riders: 2059179\n",
        "Member Riders: 3660698"
      ],
      "metadata": {
        "id": "ZzSCEJpfRoIP"
      }
    },
    {
      "cell_type": "code",
      "source": [
        "SELECT DISTINCT member_casual, COUNT(member_casual)\n",
        "FROM `cyclistic.combined_trips`\n",
        "\n",
        "GROUP BY member_casual"
      ],
      "metadata": {
        "id": "R9S-erLERobw"
      },
      "execution_count": null,
      "outputs": []
    },
    {
      "cell_type": "markdown",
      "source": [
        "# Clean the data"
      ],
      "metadata": {
        "id": "ivE65YXbSSD1"
      }
    },
    {
      "cell_type": "markdown",
      "source": [
        "Select and delete rows where started_at, start_station_id, start_station_name, start_lat, start_lng, ended_at, end_station_id, end_station_name, end_lat, or end_lng IS NULL.\n",
        "Removed 1,388,170 rows."
      ],
      "metadata": {
        "id": "ZgXpNWZubDI4"
      }
    },
    {
      "cell_type": "code",
      "source": [
        "SELECT *\n",
        "FROM cyclistic.combined_trips\n",
        "WHERE\n",
        "started_at IS NULL\n",
        "OR start_station_id IS NULL\n",
        "OR start_station_name IS NULL\n",
        "OR start_lat IS NULL\n",
        "OR start_lng IS NULL\n",
        "OR ended_at IS NULL\n",
        "OR end_station_id IS NULL\n",
        "OR end_station_name IS NULL\n",
        "OR end_lat IS NULL\n",
        "OR end_lng IS NULL;\n",
        "\n",
        "DELETE\n",
        "FROM cyclistic.combined_trips\n",
        "WHERE\n",
        "started_at IS NULL\n",
        "OR start_station_id IS NULL\n",
        "OR start_station_name IS NULL\n",
        "OR start_lat IS NULL\n",
        "OR start_lng IS NULL\n",
        "OR ended_at IS NULL\n",
        "OR end_station_id IS NULL\n",
        "OR end_station_name IS NULL\n",
        "OR end_lat IS NULL\n",
        "OR end_lng IS NULL;"
      ],
      "metadata": {
        "id": "Da-HqoVUbcWw"
      },
      "execution_count": null,
      "outputs": []
    },
    {
      "cell_type": "markdown",
      "source": [
        "Add column for ride_length"
      ],
      "metadata": {
        "id": "dpspAdqfW7Ty"
      }
    },
    {
      "cell_type": "code",
      "source": [
        "ALTER TABLE `cyclistic.combined_trips`\n",
        "ADD COLUMN ride_length int"
      ],
      "metadata": {
        "id": "GwzSjlTEW-LY"
      },
      "execution_count": null,
      "outputs": []
    },
    {
      "cell_type": "markdown",
      "source": [
        "Calculate time of rides."
      ],
      "metadata": {
        "id": "KmZQWX0Bl6Ut"
      }
    },
    {
      "cell_type": "code",
      "source": [
        "UPDATE `cyclistic.combined_trips`\n",
        "SET ride_length = DATETIME_DIFF(ended_at, started_at, minute)\n",
        "WHERE ride_id IS NOT NULL"
      ],
      "metadata": {
        "id": "e27MLgT0kmdB"
      },
      "execution_count": null,
      "outputs": []
    },
    {
      "cell_type": "markdown",
      "source": [
        "Find ride_length that is less than 0 minute or greater than or equal to 1440 minutes."
      ],
      "metadata": {
        "id": "FZ5-QAKXl4Le"
      }
    },
    {
      "cell_type": "code",
      "source": [
        "SELECT COUNT(ride_id)\n",
        "FROM `cyclistic.combined_trips`\n",
        "WHERE ride_length < 0 or ride_length >= 1440"
      ],
      "metadata": {
        "id": "pgaBBj2FlZZZ"
      },
      "execution_count": null,
      "outputs": []
    },
    {
      "cell_type": "markdown",
      "source": [
        "Delete rows where ride_length is less than 1 minute or greater than 1440 minutes."
      ],
      "metadata": {
        "id": "0bRZx5adlwOm"
      }
    },
    {
      "cell_type": "code",
      "source": [
        "DELETE\n",
        "FROM `cyclistic.combined_trips`\n",
        "WHERE ride_length < 0 or ride_length >= 1440"
      ],
      "metadata": {
        "id": "lpoyIjG-l13R"
      },
      "execution_count": null,
      "outputs": []
    },
    {
      "cell_type": "markdown",
      "source": [
        "Add column for the month."
      ],
      "metadata": {
        "id": "YDsNJLETsxo-"
      }
    },
    {
      "cell_type": "code",
      "source": [
        "ALTER TABLE `cyclistic.combined_trips`\n",
        "ADD COLUMN month STRING;\n",
        "\n",
        "UPDATE `cyclistic.combined_trips`\n",
        "SET month = FORMAT_DATETIME(\"%b\", DATETIME(started_at))\n",
        "WHERE ride_id IS NOT NULL"
      ],
      "metadata": {
        "id": "w9tzs9MeszoF"
      },
      "execution_count": null,
      "outputs": []
    },
    {
      "cell_type": "markdown",
      "source": [
        "Add column for day of the week."
      ],
      "metadata": {
        "id": "6h4bbr35t33m"
      }
    },
    {
      "cell_type": "code",
      "source": [
        "ALTER TABLE `cyclistic.combined_trips`\n",
        "ADD COLUMN day_of_week STRING;\n",
        "\n",
        "UPDATE `cyclistic.combined_trips`\n",
        "SET day_of_week = FORMAT_DATETIME(\"%a\", DATETIME(started_at))\n",
        "WHERE ride_id IS NOT NULL"
      ],
      "metadata": {
        "id": "E0J23G5vt8-s"
      },
      "execution_count": null,
      "outputs": []
    },
    {
      "cell_type": "markdown",
      "source": [
        "Count the number of leftover distinct rows after cleaning.\n",
        "Result: 4331540"
      ],
      "metadata": {
        "id": "VXITZPOK2djj"
      }
    },
    {
      "cell_type": "code",
      "source": [
        "SELECT COUNT(DISTINCT ride_id)\n",
        "FROM `cyclistic.combined_trips`"
      ],
      "metadata": {
        "id": "4ZuL6UeD2kp9"
      },
      "execution_count": null,
      "outputs": []
    }
  ]
}